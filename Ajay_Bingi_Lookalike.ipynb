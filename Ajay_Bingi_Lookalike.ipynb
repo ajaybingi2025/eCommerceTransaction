{
  "nbformat": 4,
  "nbformat_minor": 0,
  "metadata": {
    "colab": {
      "provenance": []
    },
    "kernelspec": {
      "name": "python3",
      "display_name": "Python 3"
    },
    "language_info": {
      "name": "python"
    }
  },
  "cells": [
    {
      "cell_type": "code",
      "source": [
        "import pandas as pd\n",
        "import numpy as np\n",
        "from sklearn.preprocessing import StandardScaler\n",
        "from sklearn.feature_extraction.text import CountVectorizer\n",
        "from sklearn.metrics.pairwise import cosine_similarity\n",
        "import scipy.sparse\n"
      ],
      "metadata": {
        "id": "w2SUv3p3tcRE"
      },
      "execution_count": 5,
      "outputs": []
    },
    {
      "cell_type": "code",
      "source": [
        "customers = pd.read_csv('Customers.csv')\n",
        "products = pd.read_csv('Products.csv')\n",
        "transactions = pd.read_csv('Transactions.csv')\n",
        "\n",
        "# Merging the datasets\n",
        "merged_data = transactions.merge(products, on='ProductID', how='inner')\n",
        "merged_data = merged_data.merge(customers, on='CustomerID', how='inner')\n",
        "\n",
        "print(merged_data.columns)\n"
      ],
      "metadata": {
        "colab": {
          "base_uri": "https://localhost:8080/"
        },
        "id": "I3Onm-ZVtdOC",
        "outputId": "f4677f14-ae0d-4c5e-b6a7-85bcc103a780"
      },
      "execution_count": 6,
      "outputs": [
        {
          "output_type": "stream",
          "name": "stdout",
          "text": [
            "Index(['TransactionID', 'CustomerID', 'ProductID', 'TransactionDate',\n",
            "       'Quantity', 'TotalValue', 'Price_x', 'ProductName', 'Category',\n",
            "       'Price_y', 'CustomerName', 'Region', 'SignupDate'],\n",
            "      dtype='object')\n"
          ]
        }
      ]
    },
    {
      "cell_type": "code",
      "source": [
        "# Aggregating transaction data to create customer profiles\n",
        "customer_profiles = merged_data.groupby('CustomerID').agg({\n",
        "    'TotalValue': 'sum',\n",
        "    'Quantity': 'sum',\n",
        "    'Price_x': 'mean',\n",
        "    'ProductID': lambda x: list(x),\n",
        "    'Category': lambda x: list(x)\n",
        "}).reset_index()\n",
        "\n",
        "# Replacing missing or NaN values in aggregated data\n",
        "customer_profiles.fillna(0, inplace=True)\n"
      ],
      "metadata": {
        "id": "BhwpSUb5tia_"
      },
      "execution_count": 7,
      "outputs": []
    },
    {
      "cell_type": "code",
      "source": [
        "# Encoding 'ProductID' and 'Category' using CountVectorizer\n",
        "product_vectorizer = CountVectorizer(tokenizer=lambda x: x, lowercase=False)\n",
        "category_vectorizer = CountVectorizer(tokenizer=lambda x: x, lowercase=False)\n",
        "\n",
        "# Transforming lists of products and categories into sparse matrices\n",
        "product_encoded = product_vectorizer.fit_transform(customer_profiles['ProductID'])\n",
        "category_encoded = category_vectorizer.fit_transform(customer_profiles['Category'])\n",
        "\n",
        "# Combining encoded features with numerical features\n",
        "numerical_features = customer_profiles[['TotalValue', 'Quantity', 'Price_x']]\n",
        "scaler = StandardScaler()\n",
        "numerical_scaled = scaler.fit_transform(numerical_features)\n",
        "\n",
        "#final feature matrix\n",
        "combined_features = scipy.sparse.hstack([numerical_scaled, product_encoded, category_encoded])\n"
      ],
      "metadata": {
        "colab": {
          "base_uri": "https://localhost:8080/"
        },
        "id": "F_XDxEzktvoJ",
        "outputId": "7458c193-5db3-4a95-b668-cd98cdc9ad44"
      },
      "execution_count": 8,
      "outputs": [
        {
          "output_type": "stream",
          "name": "stderr",
          "text": [
            "/usr/local/lib/python3.11/dist-packages/sklearn/feature_extraction/text.py:517: UserWarning: The parameter 'token_pattern' will not be used since 'tokenizer' is not None'\n",
            "  warnings.warn(\n"
          ]
        }
      ]
    },
    {
      "cell_type": "code",
      "source": [
        "# Computing cosine similarity between all customers\n",
        "similarity_matrix = cosine_similarity(combined_features)\n",
        "\n",
        "# Function to get top N most similar customers for a given customer\n",
        "def get_top_lookalikes(customer_id, similarity_matrix, customer_profiles, top_n=3):\n",
        "    customer_index = customer_profiles[customer_profiles['CustomerID'] == customer_id].index[0]\n",
        "\n",
        "    # Get similarity scores for this customer\n",
        "    similarity_scores = similarity_matrix[customer_index]\n",
        "\n",
        "    # Get indices of top N similar customers (excluding self)\n",
        "    similar_indices = similarity_scores.argsort()[-(top_n + 1):][::-1][1:]  # Exclude self\n",
        "\n",
        "    # Map indices to Customer IDs and scores\n",
        "    top_lookalikes = [\n",
        "        (customer_profiles.iloc[idx]['CustomerID'], similarity_scores[idx])\n",
        "        for idx in similar_indices\n",
        "    ]\n",
        "    return top_lookalikes\n"
      ],
      "metadata": {
        "id": "0F-TKHbrt5a5"
      },
      "execution_count": 9,
      "outputs": []
    },
    {
      "cell_type": "code",
      "source": [
        "# Generating lookalike data for the first 20 customers\n",
        "lookalike_data = {}\n",
        "\n",
        "for customer_id in customers['CustomerID'][:20]:  # First 20 customers\n",
        "    lookalikes = get_top_lookalikes(customer_id, similarity_matrix, customer_profiles)\n",
        "    lookalike_data[customer_id] = lookalikes\n",
        "\n",
        "# Converting lookalike data into a structured format for saving\n",
        "lookalike_df = pd.DataFrame([\n",
        "    {'cust_id': cust_id, 'lookalikes': lookalike}\n",
        "    for cust_id, lookalike in lookalike_data.items()\n",
        "])\n",
        "\n",
        "lookalike_df.to_csv('Lookalike.csv', index=False)\n",
        "print(\"Lookalike.csv created successfully!\")\n"
      ],
      "metadata": {
        "colab": {
          "base_uri": "https://localhost:8080/"
        },
        "id": "Ca_sWfi_uEWh",
        "outputId": "968f91c2-7336-4a2b-e466-4cc841ed8a49"
      },
      "execution_count": 10,
      "outputs": [
        {
          "output_type": "stream",
          "name": "stdout",
          "text": [
            "Lookalike.csv created successfully!\n"
          ]
        }
      ]
    }
  ]
}